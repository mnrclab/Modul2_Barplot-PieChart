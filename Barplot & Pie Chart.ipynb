{
 "cells": [
  {
   "cell_type": "markdown",
   "metadata": {},
   "source": [
    "# Data Visualization\n",
    "\n",
    "<hr>\n",
    "\n",
    "# ``Barplot & Pie Chart``"
   ]
  },
  {
   "cell_type": "markdown",
   "metadata": {},
   "source": [
    "# __1. Bar Plot / Bar Chart__\n",
    "\n",
    "__Wikipedia__\n",
    "\n",
    "_A bar chart or bar graph is a chart or graph that presents categorical data with rectangular bars with heights or lengths proportional to the values that they represent. The bars can be plotted vertically or horizontally. A vertical bar chart is sometimes called a column chart._\n",
    "\n",
    "_A bar graph shows comparisons among discrete categories. One axis of the chart shows the specific categories being compared, and the other axis represents a measured value. Some bar graphs present bars clustered in groups of more than one, showing the values of more than one measured variable._\n",
    "\n",
    "``Bar Plot shows the distribution of data over several groups. It is commonly confused with a histogram which only takes numerical data for plotting. It helps in comparing multiple numeric values.``"
   ]
  },
  {
   "cell_type": "markdown",
   "metadata": {},
   "source": [
    "Bar charts are among the most frequently used chart types. As the name suggests a bar chart is composed of a series of bars illustrating a variable’s development. Given that bar charts are such a common chart type, __people are__ generally __familiar__ with them and can __understand__ them __easily__. Examples like this one are straightforward to read.\n",
    "\n",
    "<img src= 'https://365datascience.com/wp-content/uploads/2018/07/4-Bar-chart-single-variable.png' width=500 height=500>"
   ]
  },
  {
   "cell_type": "markdown",
   "metadata": {},
   "source": [
    "However, please be aware that bar charts can be confusing, too. Especially if one uses them to compare several variables. I personally believe that __a comparison of more than two variables with a clustered bar chart becomes too cluttered__. Here is an example of a clustered bar chart that is not exactly crystal clear:\n",
    "\n",
    "<img src='https://365datascience.com/wp-content/uploads/2018/07/5-Suboptimal-bar-chart-variable-1024x590-e1541666684430.jpg' width=500 height=500>\n",
    "\n",
    "This isn’t a horrible visualization, but it leaves plenty to be desired.\n",
    "\n",
    "First of all, it is difficult to follow the trend of all five variables simultaneously, isn’t it? Moreover, it is hard to gain an idea about the overall state of the Fiction Book Sales market, and how it changed, which was probably what the person who created the chart wanted to show in the first place."
   ]
  },
  {
   "cell_type": "markdown",
   "metadata": {},
   "source": [
    "### __When to use bar charts__\n",
    "\n",
    "``It is used when to compare between several groups.``\n",
    "\n",
    "Bar charts are nice but limited. We have to consider the type of data we want to visualize and the number of variables that will be added to the chart.\n",
    "\n",
    "Bar charts are great when we want to track the development of one or two variables over time. For example, one of the most frequent applications of bar charts in corporate presentations is to show how a company’s total revenues have developed during a given period.\n",
    "\n",
    "<img src = 'https://365datascience.com/wp-content/uploads/2018/07/6.png' width=500 height=500>\n",
    "\n",
    "A bar chart can be used to make both a year-on-year comparison and a monthly breakdown. Moreover, bar charts can be pretty intuitive when __we compare the development of two numerical variables over time__. Let’s say we would like to compare the revenues of two companies in the timeframe between 2014 and 2018.\n",
    "\n",
    "<img src = 'https://365datascience.com/wp-content/uploads/2018/07/7-Bar-chart-clustered-two-variables.png' width=500 height=500>\n",
    "\n",
    "_Bar charts can work well for comparison of two variables over time_"
   ]
  },
  {
   "cell_type": "markdown",
   "metadata": {},
   "source": [
    "### __When to avoid using bar charts__\n",
    "\n",
    "Simple bar charts are far from ideal in situations when we have several variables and all of them are part of a whole. Such as the case In the Fiction Book Sales chart we showed you, there were five categories: Young adult; classics; mystery; romance; and Sci-fi. These account for all fiction books. Meaning, their sum gives us the total volume of the Fiction book sales market.\n",
    "\n",
    "Do we get any of this information with this bar chart?\n",
    "\n",
    "<img src='https://365datascience.com/wp-content/uploads/2018/07/5-Suboptimal-bar-chart-variable-1024x590-e1541666684430.jpg' width=500 height=500>"
   ]
  },
  {
   "cell_type": "markdown",
   "metadata": {},
   "source": [
    "We don’t.\n",
    "\n",
    "It simply shows us __multiple lines__ and one has to start making calculations on their own to understand how numbers developed over time. And if they have to do that, why bother even creating a chart in the first place? __We are better off showing the data in a table format__, right? So, this certainly is one case where we should use different chart types.\n",
    "\n",
    "Along the same lines, a simple bar chart isn’t suitable when we have a single period breakdown of a variable. If I want to portray the main business lines that contributed to a company’s revenues in 2018, I wouldn’t use a bar chart. Instead, I’d create a pie chart or one of its variations."
   ]
  },
  {
   "cell_type": "markdown",
   "metadata": {},
   "source": [
    "<hr>\n",
    "\n",
    "# __2. Pie Chart__\n",
    "\n",
    "__Wikipedia__\n",
    "\n",
    "_A pie chart (or a circle chart) is a circular statistical graphic, which is divided into slices to illustrate numerical proportion. In a pie chart, the arc length of each slice (and consequently its central angle and area), is proportional to the quantity it represents. While it is named for its resemblance to a pie which has been sliced, there are variations on the way it can be presented. The earliest known pie chart is generally credited to William Playfair's Statistical Breviary of 1801._\n",
    "\n",
    "_Pie charts are very widely used in the business world and the mass media. However, they have been criticized, and many experts recommend avoiding them, pointing out that research has shown it is difficult to compare different sections of a given pie chart, or to compare data across different pie charts. Pie charts can be replaced in most cases by other plots such as the bar chart, box plot, dot plot, etc._\n",
    "\n",
    "``It is a circular plot which is divided into slices to illustrate numerical proportion. The slice of a pie chart is to show the proportion of parts out of a whole.``"
   ]
  },
  {
   "cell_type": "markdown",
   "metadata": {},
   "source": [
    "A pie chart is a circular graph divided into slices. The larger a slice is the bigger portion of the total quantity it represents.\n",
    "When to use a pie chart\n",
    "\n",
    "So, pie charts are best suited to depict sections of a whole.\n",
    "\n",
    "### __When to use__\n",
    "\n",
    "``Pie chart should be used seldom used as It is difficult to compare sections of the chart. Bar plot is used instead as comparing sections is easy.``\n",
    "\n",
    "If a company operates three separate divisions, at year-end its top management would be interested in seeing what portion of total revenue each division accounted for.\n",
    "\n",
    "<img src='https://365datascience.com/wp-content/uploads/2018/07/9-Pie-chart.png' width=500 height=500>\n",
    "\n",
    "_Pie charts are great for depicting sections of a whole_\n",
    "\n",
    "A pie chart is perfect in this case. However, we need to be certain that the sum of the proportions makes 100% of the total. That is, we cannot afford to forget any of the three divisions contributing to total revenue."
   ]
  },
  {
   "cell_type": "markdown",
   "metadata": {},
   "source": [
    "### __When to avoid pie charts__\n",
    "\n",
    "Obviously, we can’t use a pie chart in situations when we would like to show how one or more variables develop over time. Pie charts are a definite no-go in these cases. Moreover, __a pie chart would be misleading if we don’t consider all values__. In the context of our example from earlier, __we shouldn’t create a pie chart that includes revenue of only two of the firm’s three divisions__."
   ]
  },
  {
   "cell_type": "markdown",
   "metadata": {},
   "source": [
    "<hr>\n",
    "\n",
    "# ``Students Performance Dataset``"
   ]
  },
  {
   "cell_type": "code",
   "execution_count": 2,
   "metadata": {},
   "outputs": [],
   "source": [
    "import pandas as pd\n",
    "import numpy as np\n",
    "import matplotlib.pyplot as plt\n",
    "import seaborn as sns"
   ]
  },
  {
   "cell_type": "code",
   "execution_count": 4,
   "metadata": {},
   "outputs": [
    {
     "data": {
      "text/html": [
       "<div>\n",
       "<style scoped>\n",
       "    .dataframe tbody tr th:only-of-type {\n",
       "        vertical-align: middle;\n",
       "    }\n",
       "\n",
       "    .dataframe tbody tr th {\n",
       "        vertical-align: top;\n",
       "    }\n",
       "\n",
       "    .dataframe thead th {\n",
       "        text-align: right;\n",
       "    }\n",
       "</style>\n",
       "<table border=\"1\" class=\"dataframe\">\n",
       "  <thead>\n",
       "    <tr style=\"text-align: right;\">\n",
       "      <th></th>\n",
       "      <th>gender</th>\n",
       "      <th>race/ethnicity</th>\n",
       "      <th>parental level of education</th>\n",
       "      <th>lunch</th>\n",
       "      <th>test preparation course</th>\n",
       "      <th>math score</th>\n",
       "      <th>reading score</th>\n",
       "      <th>writing score</th>\n",
       "    </tr>\n",
       "  </thead>\n",
       "  <tbody>\n",
       "    <tr>\n",
       "      <th>0</th>\n",
       "      <td>female</td>\n",
       "      <td>group B</td>\n",
       "      <td>bachelor's degree</td>\n",
       "      <td>standard</td>\n",
       "      <td>none</td>\n",
       "      <td>72</td>\n",
       "      <td>72</td>\n",
       "      <td>74</td>\n",
       "    </tr>\n",
       "    <tr>\n",
       "      <th>1</th>\n",
       "      <td>female</td>\n",
       "      <td>group C</td>\n",
       "      <td>some college</td>\n",
       "      <td>standard</td>\n",
       "      <td>completed</td>\n",
       "      <td>69</td>\n",
       "      <td>90</td>\n",
       "      <td>88</td>\n",
       "    </tr>\n",
       "    <tr>\n",
       "      <th>2</th>\n",
       "      <td>female</td>\n",
       "      <td>group B</td>\n",
       "      <td>master's degree</td>\n",
       "      <td>standard</td>\n",
       "      <td>none</td>\n",
       "      <td>90</td>\n",
       "      <td>95</td>\n",
       "      <td>93</td>\n",
       "    </tr>\n",
       "    <tr>\n",
       "      <th>3</th>\n",
       "      <td>male</td>\n",
       "      <td>group A</td>\n",
       "      <td>associate's degree</td>\n",
       "      <td>free/reduced</td>\n",
       "      <td>none</td>\n",
       "      <td>47</td>\n",
       "      <td>57</td>\n",
       "      <td>44</td>\n",
       "    </tr>\n",
       "    <tr>\n",
       "      <th>4</th>\n",
       "      <td>male</td>\n",
       "      <td>group C</td>\n",
       "      <td>some college</td>\n",
       "      <td>standard</td>\n",
       "      <td>none</td>\n",
       "      <td>76</td>\n",
       "      <td>78</td>\n",
       "      <td>75</td>\n",
       "    </tr>\n",
       "  </tbody>\n",
       "</table>\n",
       "</div>"
      ],
      "text/plain": [
       "   gender race/ethnicity parental level of education         lunch  \\\n",
       "0  female        group B           bachelor's degree      standard   \n",
       "1  female        group C                some college      standard   \n",
       "2  female        group B             master's degree      standard   \n",
       "3    male        group A          associate's degree  free/reduced   \n",
       "4    male        group C                some college      standard   \n",
       "\n",
       "  test preparation course  math score  reading score  writing score  \n",
       "0                    none          72             72             74  \n",
       "1               completed          69             90             88  \n",
       "2                    none          90             95             93  \n",
       "3                    none          47             57             44  \n",
       "4                    none          76             78             75  "
      ]
     },
     "execution_count": 4,
     "metadata": {},
     "output_type": "execute_result"
    }
   ],
   "source": [
    "df = pd.read_csv('StudentsPerformance.csv')\n",
    "df.head()"
   ]
  },
  {
   "cell_type": "code",
   "execution_count": 5,
   "metadata": {},
   "outputs": [
    {
     "data": {
      "text/plain": [
       "gender                         0\n",
       "race/ethnicity                 0\n",
       "parental level of education    0\n",
       "lunch                          0\n",
       "test preparation course        0\n",
       "math score                     0\n",
       "reading score                  0\n",
       "writing score                  0\n",
       "dtype: int64"
      ]
     },
     "execution_count": 5,
     "metadata": {},
     "output_type": "execute_result"
    }
   ],
   "source": [
    "df.isna().sum()"
   ]
  },
  {
   "cell_type": "code",
   "execution_count": 6,
   "metadata": {},
   "outputs": [],
   "source": [
    "df.columns = ['gender', 'race', 'parent_edu', 'lunch', 'prep_course', 'math', 'reading', 'writing']"
   ]
  },
  {
   "cell_type": "code",
   "execution_count": 7,
   "metadata": {},
   "outputs": [
    {
     "data": {
      "text/html": [
       "<div>\n",
       "<style scoped>\n",
       "    .dataframe tbody tr th:only-of-type {\n",
       "        vertical-align: middle;\n",
       "    }\n",
       "\n",
       "    .dataframe tbody tr th {\n",
       "        vertical-align: top;\n",
       "    }\n",
       "\n",
       "    .dataframe thead th {\n",
       "        text-align: right;\n",
       "    }\n",
       "</style>\n",
       "<table border=\"1\" class=\"dataframe\">\n",
       "  <thead>\n",
       "    <tr style=\"text-align: right;\">\n",
       "      <th></th>\n",
       "      <th>gender</th>\n",
       "      <th>race</th>\n",
       "      <th>parent_edu</th>\n",
       "      <th>lunch</th>\n",
       "      <th>prep_course</th>\n",
       "      <th>math</th>\n",
       "      <th>reading</th>\n",
       "      <th>writing</th>\n",
       "    </tr>\n",
       "  </thead>\n",
       "  <tbody>\n",
       "    <tr>\n",
       "      <th>0</th>\n",
       "      <td>female</td>\n",
       "      <td>group B</td>\n",
       "      <td>bachelor's degree</td>\n",
       "      <td>standard</td>\n",
       "      <td>none</td>\n",
       "      <td>72</td>\n",
       "      <td>72</td>\n",
       "      <td>74</td>\n",
       "    </tr>\n",
       "    <tr>\n",
       "      <th>1</th>\n",
       "      <td>female</td>\n",
       "      <td>group C</td>\n",
       "      <td>some college</td>\n",
       "      <td>standard</td>\n",
       "      <td>completed</td>\n",
       "      <td>69</td>\n",
       "      <td>90</td>\n",
       "      <td>88</td>\n",
       "    </tr>\n",
       "    <tr>\n",
       "      <th>2</th>\n",
       "      <td>female</td>\n",
       "      <td>group B</td>\n",
       "      <td>master's degree</td>\n",
       "      <td>standard</td>\n",
       "      <td>none</td>\n",
       "      <td>90</td>\n",
       "      <td>95</td>\n",
       "      <td>93</td>\n",
       "    </tr>\n",
       "    <tr>\n",
       "      <th>3</th>\n",
       "      <td>male</td>\n",
       "      <td>group A</td>\n",
       "      <td>associate's degree</td>\n",
       "      <td>free/reduced</td>\n",
       "      <td>none</td>\n",
       "      <td>47</td>\n",
       "      <td>57</td>\n",
       "      <td>44</td>\n",
       "    </tr>\n",
       "    <tr>\n",
       "      <th>4</th>\n",
       "      <td>male</td>\n",
       "      <td>group C</td>\n",
       "      <td>some college</td>\n",
       "      <td>standard</td>\n",
       "      <td>none</td>\n",
       "      <td>76</td>\n",
       "      <td>78</td>\n",
       "      <td>75</td>\n",
       "    </tr>\n",
       "  </tbody>\n",
       "</table>\n",
       "</div>"
      ],
      "text/plain": [
       "   gender     race          parent_edu         lunch prep_course  math  \\\n",
       "0  female  group B   bachelor's degree      standard        none    72   \n",
       "1  female  group C        some college      standard   completed    69   \n",
       "2  female  group B     master's degree      standard        none    90   \n",
       "3    male  group A  associate's degree  free/reduced        none    47   \n",
       "4    male  group C        some college      standard        none    76   \n",
       "\n",
       "   reading  writing  \n",
       "0       72       74  \n",
       "1       90       88  \n",
       "2       95       93  \n",
       "3       57       44  \n",
       "4       78       75  "
      ]
     },
     "execution_count": 7,
     "metadata": {},
     "output_type": "execute_result"
    }
   ],
   "source": [
    "df.head()"
   ]
  },
  {
   "cell_type": "markdown",
   "metadata": {},
   "source": [
    "<hr>\n",
    "\n",
    "# ``How to create Bar Plot & Pie Chart``\n",
    "\n",
    "# __1. Bar Plot__ \n",
    "\n",
    "## ``Matplotlib``"
   ]
  },
  {
   "cell_type": "code",
   "execution_count": 18,
   "metadata": {},
   "outputs": [
    {
     "data": {
      "text/html": [
       "<div>\n",
       "<style scoped>\n",
       "    .dataframe tbody tr th:only-of-type {\n",
       "        vertical-align: middle;\n",
       "    }\n",
       "\n",
       "    .dataframe tbody tr th {\n",
       "        vertical-align: top;\n",
       "    }\n",
       "\n",
       "    .dataframe thead th {\n",
       "        text-align: right;\n",
       "    }\n",
       "</style>\n",
       "<table border=\"1\" class=\"dataframe\">\n",
       "  <thead>\n",
       "    <tr style=\"text-align: right;\">\n",
       "      <th></th>\n",
       "      <th>math</th>\n",
       "      <th>reading</th>\n",
       "      <th>writing</th>\n",
       "    </tr>\n",
       "    <tr>\n",
       "      <th>gender</th>\n",
       "      <th></th>\n",
       "      <th></th>\n",
       "      <th></th>\n",
       "    </tr>\n",
       "  </thead>\n",
       "  <tbody>\n",
       "    <tr>\n",
       "      <th>female</th>\n",
       "      <td>63.633205</td>\n",
       "      <td>72.608108</td>\n",
       "      <td>72.467181</td>\n",
       "    </tr>\n",
       "    <tr>\n",
       "      <th>male</th>\n",
       "      <td>68.728216</td>\n",
       "      <td>65.473029</td>\n",
       "      <td>63.311203</td>\n",
       "    </tr>\n",
       "  </tbody>\n",
       "</table>\n",
       "</div>"
      ],
      "text/plain": [
       "             math    reading    writing\n",
       "gender                                 \n",
       "female  63.633205  72.608108  72.467181\n",
       "male    68.728216  65.473029  63.311203"
      ]
     },
     "execution_count": 18,
     "metadata": {},
     "output_type": "execute_result"
    }
   ],
   "source": [
    "df_by_gender = df.groupby(['gender']).mean()\n",
    "df_by_gender"
   ]
  },
  {
   "cell_type": "code",
   "execution_count": 14,
   "metadata": {},
   "outputs": [
    {
     "data": {
      "text/plain": [
       "['female', 'male']"
      ]
     },
     "execution_count": 14,
     "metadata": {},
     "output_type": "execute_result"
    }
   ],
   "source": [
    "# mengambil data categorial dari gender\n",
    "df['gender'].unique().tolist()"
   ]
  },
  {
   "cell_type": "code",
   "execution_count": 15,
   "metadata": {},
   "outputs": [
    {
     "data": {
      "image/png": "[encoded data removed]",
      "text/plain": [
       "<Figure size 432x288 with 1 Axes>"
      ]
     },
     "metadata": {
      "needs_background": "light"
     },
     "output_type": "display_data"
    }
   ],
   "source": [
    "# simple bar plot\n",
    "plt.bar(df['gender'].unique().tolist(), df_by_gender['reading'])\n",
    "plt.show()"
   ]
  },
  {
   "cell_type": "code",
   "execution_count": 16,
   "metadata": {},
   "outputs": [
    {
     "data": {
      "image/png": "[encoded data removed]",
      "text/plain": [
       "<Figure size 432x288 with 1 Axes>"
      ]
     },
     "metadata": {
      "needs_background": "light"
     },
     "output_type": "display_data"
    }
   ],
   "source": [
    "# simple horizontal bar plot\n",
    "plt.barh(df['gender'].unique().tolist(), df_by_gender['reading'])\n",
    "plt.show()"
   ]
  },
  {
   "cell_type": "code",
   "execution_count": 34,
   "metadata": {},
   "outputs": [
    {
     "data": {
      "image/png": "[encoded data removed]",
      "text/plain": [
       "<Figure size 576x432 with 1 Axes>"
      ]
     },
     "metadata": {},
     "output_type": "display_data"
    }
   ],
   "source": [
    "plt.style.use('seaborn')\n",
    "plt.figure(figsize=(8,6))\n",
    "\n",
    "barplot = plt.bar(df['gender'].unique().tolist(), df_by_gender['writing'],\n",
    "                  color=['blue', 'green'], #mengubah warna pada batang/bar\n",
    "                  edgecolor = 'black', linewidth=2.5) #membuat garis di sekitar bar\n",
    "\n",
    "plt.title('Writing Skill', fontdict={'family': 'Impact', 'size': 25, 'color': 'midnightblue'})\n",
    "plt.xlabel('Gender', size=15)\n",
    "plt.ylabel('Writing Score', size=15)\n",
    "plt.yticks(np.arange(0, 90, 15)) # mengatur skala di sumbu y\n",
    "\n",
    "# menambahkan keterangan di atas bar\n",
    "for i, j in enumerate(barplot):\n",
    "    plt.text(j.get_x()+0.3, j.get_height()+2, round(df_by_gender['writing'].iloc[i], 2)),\n",
    "    fontdict = {'family': 'Calibri', 'size': 20, 'color':'black'},\n",
    "    bbox = dict(facecolor='white', alpha=0.5)\n",
    "\n",
    "plt.show()"
   ]
  },
  {
   "cell_type": "markdown",
   "metadata": {},
   "source": [
    "## ``Seaborn``"
   ]
  },
  {
   "cell_type": "code",
   "execution_count": 37,
   "metadata": {},
   "outputs": [
    {
     "data": {
      "image/png": "[encoded data removed]",
      "text/plain": [
       "<Figure size 576x396 with 1 Axes>"
      ]
     },
     "metadata": {},
     "output_type": "display_data"
    }
   ],
   "source": [
    "sns.barplot(x='lunch', y='math', data=df)\n",
    "plt.title('Math Score based on Lunch Quality', size=20)\n",
    "plt.show()"
   ]
  },
  {
   "cell_type": "code",
   "execution_count": 41,
   "metadata": {},
   "outputs": [
    {
     "data": {
      "image/png": "[encoded data removed]",
      "text/plain": [
       "<Figure size 720x432 with 1 Axes>"
      ]
     },
     "metadata": {},
     "output_type": "display_data"
    }
   ],
   "source": [
    "plt.figure(figsize=(10,6))\n",
    "sns.set(style='darkgrid')\n",
    "sns.barplot(x='lunch', y='writing', hue='gender', data=df)\n",
    "plt.title('Perbandingan Nilai Menulis', size=20)\n",
    "plt.show()"
   ]
  },
  {
   "cell_type": "markdown",
   "metadata": {},
   "source": [
    "## Count Plot"
   ]
  },
  {
   "cell_type": "code",
   "execution_count": 47,
   "metadata": {},
   "outputs": [
    {
     "data": {
      "image/png": "[encoded data removed]",
      "text/plain": [
       "<Figure size 576x396 with 1 Axes>"
      ]
     },
     "metadata": {},
     "output_type": "display_data"
    }
   ],
   "source": [
    "sns.countplot(x='parent_edu', hue='prep_course', data=df)\n",
    "plt.xticks(rotation=15)\n",
    "plt.title('Count of Parental Education Level', size=20)\n",
    "plt.xlabel('Parental Education Level', size=15)\n",
    "plt.show()"
   ]
  },
  {
   "cell_type": "markdown",
   "metadata": {},
   "source": [
    "<hr>\n",
    "\n",
    "# __2. Pie Chart__\n",
    "\n",
    "\n",
    "__Pie chart components__\n",
    "\n",
    "-    wedges: A list of Patch objects representing each wedge\n",
    "-    texts: List of Text objects representing the labels\n",
    "-    autotexts: List of Text objects for the numeric values - this is only availabe if the autopct value for the pie chart is not None\n",
    "\n",
    "- plt.axis: Convenience method to get or set some axis properties. https://matplotlib.org/3.2.1/api/_as_gen/matplotlib.pyplot.axis.html\n",
    "\n",
    "- Explode: To highlight a particular wedge of the pie chart, we use explode to separate it from the rest of the chart. The value for \"explode\" represents the fraction of the radius with which to offset each wedge."
   ]
  },
  {
   "cell_type": "code",
   "execution_count": 50,
   "metadata": {},
   "outputs": [
    {
     "data": {
      "text/html": [
       "<div>\n",
       "<style scoped>\n",
       "    .dataframe tbody tr th:only-of-type {\n",
       "        vertical-align: middle;\n",
       "    }\n",
       "\n",
       "    .dataframe tbody tr th {\n",
       "        vertical-align: top;\n",
       "    }\n",
       "\n",
       "    .dataframe thead th {\n",
       "        text-align: right;\n",
       "    }\n",
       "</style>\n",
       "<table border=\"1\" class=\"dataframe\">\n",
       "  <thead>\n",
       "    <tr style=\"text-align: right;\">\n",
       "      <th></th>\n",
       "      <th>math</th>\n",
       "      <th>reading</th>\n",
       "      <th>writing</th>\n",
       "    </tr>\n",
       "    <tr>\n",
       "      <th>race</th>\n",
       "      <th></th>\n",
       "      <th></th>\n",
       "      <th></th>\n",
       "    </tr>\n",
       "  </thead>\n",
       "  <tbody>\n",
       "    <tr>\n",
       "      <th>group A</th>\n",
       "      <td>61.629213</td>\n",
       "      <td>64.674157</td>\n",
       "      <td>62.674157</td>\n",
       "    </tr>\n",
       "    <tr>\n",
       "      <th>group B</th>\n",
       "      <td>63.452632</td>\n",
       "      <td>67.352632</td>\n",
       "      <td>65.600000</td>\n",
       "    </tr>\n",
       "    <tr>\n",
       "      <th>group C</th>\n",
       "      <td>64.463950</td>\n",
       "      <td>69.103448</td>\n",
       "      <td>67.827586</td>\n",
       "    </tr>\n",
       "    <tr>\n",
       "      <th>group D</th>\n",
       "      <td>67.362595</td>\n",
       "      <td>70.030534</td>\n",
       "      <td>70.145038</td>\n",
       "    </tr>\n",
       "    <tr>\n",
       "      <th>group E</th>\n",
       "      <td>73.821429</td>\n",
       "      <td>73.028571</td>\n",
       "      <td>71.407143</td>\n",
       "    </tr>\n",
       "  </tbody>\n",
       "</table>\n",
       "</div>"
      ],
      "text/plain": [
       "              math    reading    writing\n",
       "race                                    \n",
       "group A  61.629213  64.674157  62.674157\n",
       "group B  63.452632  67.352632  65.600000\n",
       "group C  64.463950  69.103448  67.827586\n",
       "group D  67.362595  70.030534  70.145038\n",
       "group E  73.821429  73.028571  71.407143"
      ]
     },
     "execution_count": 50,
     "metadata": {},
     "output_type": "execute_result"
    }
   ],
   "source": [
    "df_by_race = df.groupby(['race']).mean()\n",
    "df_by_race"
   ]
  },
  {
   "cell_type": "code",
   "execution_count": 52,
   "metadata": {},
   "outputs": [],
   "source": [
    "labels = df['race'].unique().tolist()"
   ]
  },
  {
   "cell_type": "code",
   "execution_count": 56,
   "metadata": {},
   "outputs": [
    {
     "data": {
      "image/png": "[encoded data removed]",
      "text/plain": [
       "<Figure size 576x396 with 1 Axes>"
      ]
     },
     "metadata": {},
     "output_type": "display_data"
    }
   ],
   "source": [
    "plt.pie(df_by_race['math'], labels=labels)\n",
    "plt.axis('equal') #bentuk lingkaran\n",
    "plt.show()"
   ]
  },
  {
   "cell_type": "code",
   "execution_count": 57,
   "metadata": {},
   "outputs": [
    {
     "data": {
      "text/html": [
       "<div>\n",
       "<style scoped>\n",
       "    .dataframe tbody tr th:only-of-type {\n",
       "        vertical-align: middle;\n",
       "    }\n",
       "\n",
       "    .dataframe tbody tr th {\n",
       "        vertical-align: top;\n",
       "    }\n",
       "\n",
       "    .dataframe thead th {\n",
       "        text-align: right;\n",
       "    }\n",
       "</style>\n",
       "<table border=\"1\" class=\"dataframe\">\n",
       "  <thead>\n",
       "    <tr style=\"text-align: right;\">\n",
       "      <th></th>\n",
       "      <th>math</th>\n",
       "      <th>reading</th>\n",
       "      <th>writing</th>\n",
       "    </tr>\n",
       "    <tr>\n",
       "      <th>parent_edu</th>\n",
       "      <th></th>\n",
       "      <th></th>\n",
       "      <th></th>\n",
       "    </tr>\n",
       "  </thead>\n",
       "  <tbody>\n",
       "    <tr>\n",
       "      <th>associate's degree</th>\n",
       "      <td>67.882883</td>\n",
       "      <td>70.927928</td>\n",
       "      <td>69.896396</td>\n",
       "    </tr>\n",
       "    <tr>\n",
       "      <th>bachelor's degree</th>\n",
       "      <td>69.389831</td>\n",
       "      <td>73.000000</td>\n",
       "      <td>73.381356</td>\n",
       "    </tr>\n",
       "    <tr>\n",
       "      <th>high school</th>\n",
       "      <td>62.137755</td>\n",
       "      <td>64.704082</td>\n",
       "      <td>62.448980</td>\n",
       "    </tr>\n",
       "    <tr>\n",
       "      <th>master's degree</th>\n",
       "      <td>69.745763</td>\n",
       "      <td>75.372881</td>\n",
       "      <td>75.677966</td>\n",
       "    </tr>\n",
       "    <tr>\n",
       "      <th>some college</th>\n",
       "      <td>67.128319</td>\n",
       "      <td>69.460177</td>\n",
       "      <td>68.840708</td>\n",
       "    </tr>\n",
       "    <tr>\n",
       "      <th>some high school</th>\n",
       "      <td>63.497207</td>\n",
       "      <td>66.938547</td>\n",
       "      <td>64.888268</td>\n",
       "    </tr>\n",
       "  </tbody>\n",
       "</table>\n",
       "</div>"
      ],
      "text/plain": [
       "                         math    reading    writing\n",
       "parent_edu                                         \n",
       "associate's degree  67.882883  70.927928  69.896396\n",
       "bachelor's degree   69.389831  73.000000  73.381356\n",
       "high school         62.137755  64.704082  62.448980\n",
       "master's degree     69.745763  75.372881  75.677966\n",
       "some college        67.128319  69.460177  68.840708\n",
       "some high school    63.497207  66.938547  64.888268"
      ]
     },
     "execution_count": 57,
     "metadata": {},
     "output_type": "execute_result"
    }
   ],
   "source": [
    "df_by_parent = df.groupby(['parent_edu']).mean()\n",
    "df_by_parent"
   ]
  },
  {
   "cell_type": "code",
   "execution_count": 61,
   "metadata": {},
   "outputs": [
    {
     "data": {
      "image/png": "[encoded data removed]",
      "text/plain": [
       "<Figure size 720x432 with 1 Axes>"
      ]
     },
     "metadata": {},
     "output_type": "display_data"
    }
   ],
   "source": [
    "explode = (0, 0.1, 0, 0.4, 0.1, 0.2)\n",
    "\n",
    "plt.figure(figsize=(10, 6))\n",
    "plt.pie(df_by_parent['writing'], #ini proporsi datanya\n",
    "       labels = df['parent_edu'].unique().tolist(), #label\n",
    "        autopct = '%.2f', #menampilkan data di pie chart\n",
    "        explode = explode #supaya terpisah\n",
    "       )\n",
    "plt.axis('equal')\n",
    "plt.show()"
   ]
  },
  {
   "cell_type": "markdown",
   "metadata": {},
   "source": [
    "<hr>\n",
    "\n",
    "# ``Take Home Exercise``\n",
    "### 1. Buat ``Bar Plot`` untuk menampilkan distribusi negara dengan awalan huruf tertentu: A, B, C, ... Z! Tampilkan ``5 kelompok awalan huruf`` yang jumlah negaranya paling banyak dalam bar berbeda, sisanya masukkan dalam bar dengan nama ``other/lainnya``!\n",
    "### 2. Buat ``Pie Chart`` untuk menampilkan:\n",
    "#### a) Proporsi jumlah penduduk di tiap benua\n",
    "#### b) Proporsi jumlah luas area di tiap benua\n",
    "#### c) Proporsi rata-rata kepadatan penduduk di tiap benua\n",
    "#### __Note__: Benua Antartika tidak perlu ditampilkan"
   ]
  },
  {
   "cell_type": "markdown",
   "metadata": {},
   "source": [
    "<hr>\n",
    "\n",
    "# __Reference__:\n",
    "- 365datascience, \"Choosing the right chart: Selecting among 14 chart types\", https://365datascience.com/chart-types-and-how-to-select-the-right-one/\n",
    "- Badreesh Shetty, \"Data Visualization using Matplotlib\", https://towardsdatascience.com/data-visualization-using-matplotlib-16f1aae5ce70\n",
    "- Wikipedia, \"Bar chart\", https://en.wikipedia.org/wiki/Bar_chart\n",
    "- Wikipedia, \"Pie chart\", https://en.wikipedia.org/wiki/Pie_chart\n",
    "- Dataset Source: https://www.kaggle.com/spscientist/students-performance-in-exams/data"
   ]
  }
 ],
 "metadata": {
  "kernelspec": {
   "display_name": "Python 3",
   "language": "python",
   "name": "python3"
  },
  "language_info": {
   "codemirror_mode": {
    "name": "ipython",
    "version": 3
   },
   "file_extension": ".py",
   "mimetype": "text/x-python",
   "name": "python",
   "nbconvert_exporter": "python",
   "pygments_lexer": "ipython3",
   "version": "3.8.1"
  }
 },
 "nbformat": 4,
 "nbformat_minor": 4
}
